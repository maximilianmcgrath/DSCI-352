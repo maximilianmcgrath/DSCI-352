{
 "cells": [
  {
   "cell_type": "code",
   "execution_count": null,
   "metadata": {},
   "outputs": [],
   "source": [
    "import pandas as pd\n",
    "import numpy as np\n",
    "import matplotlib.pyplot as plt\n",
    "import statsmodels.api as sm\n",
    "import seaborn as sns"
   ]
  },
  {
   "cell_type": "code",
   "execution_count": null,
   "metadata": {
    "pycharm": {
     "name": "#%%\n"
    }
   },
   "outputs": [],
   "source": [
    "# Create a dataframe with columns named 'x' and 'y' filled with random numbers\n",
    "df = pd.DataFrame({\"x\": np.random.normal(size=50), \"y\": np.random.normal(size=50)})\n",
    "\n",
    "# Create an ordinary least squares regression on the data and show summary statistics.\n",
    "# This formula regresses column 'y' on 'x'\n",
    "ro = sm.OLS.from_formula(\"y ~ x\", df)\n",
    "res = ro.fit()\n",
    "print(res.summary())\n",
    "\n",
    "# Plot the data\n",
    "sns.regplot('x', 'y', df)\n",
    "plt.show()"
   ]
  },
  {
   "cell_type": "code",
   "execution_count": null,
   "metadata": {
    "pycharm": {
     "name": "#%%\n"
    }
   },
   "outputs": [],
   "source": [
    "\n",
    "DATA_ROOT = '../ISLR-data/ALL CSV FILES - 2nd Edition/'\n",
    "\n",
    "advertising = pd.read_csv(DATA_ROOT+'Advertising.csv')\n",
    "advertising.info()\n",
    "advertising.describe()"
   ]
  },
  {
   "cell_type": "code",
   "execution_count": null,
   "metadata": {
    "pycharm": {
     "name": "#%%\n"
    }
   },
   "outputs": [],
   "source": []
  }
 ],
 "metadata": {
  "kernelspec": {
   "display_name": "PyCharm (venom)",
   "language": "python",
   "name": "pycharm-9f6f38f0"
  },
  "language_info": {
   "codemirror_mode": {
    "name": "ipython",
    "version": 3
   },
   "file_extension": ".py",
   "mimetype": "text/x-python",
   "name": "python",
   "nbconvert_exporter": "python",
   "pygments_lexer": "ipython3",
   "version": "3.7.6"
  }
 },
 "nbformat": 4,
 "nbformat_minor": 1
}
